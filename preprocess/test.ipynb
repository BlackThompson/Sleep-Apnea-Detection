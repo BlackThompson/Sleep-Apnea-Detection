{
 "cells": [
  {
   "cell_type": "code",
   "execution_count": 1,
   "metadata": {},
   "outputs": [],
   "source": [
    "import numpy as np\n",
    "import pandas as pd\n",
    "path_train_x = r'./data/train/train_x.npy'\n",
    "path_train_y = r'./data/train/train_y.npy'"
   ]
  },
  {
   "cell_type": "code",
   "execution_count": 2,
   "metadata": {},
   "outputs": [],
   "source": [
    "# Load data\n",
    "train_x = np.load(path_train_x)\n",
    "train_y = np.load(path_train_y)"
   ]
  },
  {
   "cell_type": "code",
   "execution_count": 4,
   "metadata": {},
   "outputs": [
    {
     "data": {
      "text/plain": [
       "numpy.ndarray"
      ]
     },
     "execution_count": 4,
     "metadata": {},
     "output_type": "execute_result"
    }
   ],
   "source": [
    "type(train_x)"
   ]
  },
  {
   "cell_type": "code",
   "execution_count": 5,
   "metadata": {},
   "outputs": [
    {
     "data": {
      "text/plain": [
       "(37549, 2, 180)"
      ]
     },
     "execution_count": 5,
     "metadata": {},
     "output_type": "execute_result"
    }
   ],
   "source": [
    "train_x.shape"
   ]
  },
  {
   "cell_type": "code",
   "execution_count": 17,
   "metadata": {},
   "outputs": [
    {
     "data": {
      "text/plain": [
       "(37549,)"
      ]
     },
     "execution_count": 17,
     "metadata": {},
     "output_type": "execute_result"
    }
   ],
   "source": [
    "train_y.shape"
   ]
  },
  {
   "cell_type": "code",
   "execution_count": 7,
   "metadata": {},
   "outputs": [
    {
     "data": {
      "text/plain": [
       "0    29808\n",
       "2     4520\n",
       "1     3221\n",
       "Name: count, dtype: int64"
      ]
     },
     "execution_count": 7,
     "metadata": {},
     "output_type": "execute_result"
    }
   ],
   "source": [
    "# 统计每个类别的数量\n",
    "pd.Series(train_y).value_counts()"
   ]
  },
  {
   "cell_type": "code",
   "execution_count": 10,
   "metadata": {},
   "outputs": [],
   "source": [
    "# 检查train_x是否有0值（遍历所有的像素点）\n",
    "for i in range(train_x.shape[0]):\n",
    "    if 0 in train_x[i]:\n",
    "        print(i)\n"
   ]
  },
  {
   "cell_type": "code",
   "execution_count": 16,
   "metadata": {},
   "outputs": [
    {
     "name": "stdout",
     "output_type": "stream",
     "text": [
      "Mean of feature 1: 94.68028191311501\n",
      "Mean of feature 2: 66.17522896008475\n",
      "Standard deviation of feature 1: 3.0147888371863765\n",
      "Standard deviation of feature 2: 10.509252393854648\n"
     ]
    }
   ],
   "source": [
    "# 计算第一维（特征维度）的均值和方差\n",
    "mean_feature1 = np.mean(train_x[:, 0, :])\n",
    "mean_feature2 = np.mean(train_x[:, 1, :])\n",
    "std_feature1 = np.std(train_x[:, 0, :])\n",
    "std_feature2 = np.std(train_x[:, 1, :])\n",
    "\n",
    "print(\"Mean of feature 1:\", mean_feature1)\n",
    "print(\"Mean of feature 2:\", mean_feature2)\n",
    "print(\"Standard deviation of feature 1:\", std_feature1)\n",
    "print(\"Standard deviation of feature 2:\", std_feature2)\n"
   ]
  },
  {
   "cell_type": "code",
   "execution_count": 19,
   "metadata": {},
   "outputs": [
    {
     "name": "stdout",
     "output_type": "stream",
     "text": [
      "New train_x shape: (9663, 2, 180)\n",
      "New train_y shape: (9663,)\n",
      "New train_y distribution: (array([0, 1, 2]), array([3221, 3221, 3221]))\n"
     ]
    }
   ],
   "source": [
    "import numpy as np\n",
    "\n",
    "# 获取标签为 0, 1, 2 的索引\n",
    "indices_0 = np.where(train_y == 0)[0]\n",
    "indices_1 = np.where(train_y == 1)[0]\n",
    "indices_2 = np.where(train_y == 2)[0]\n",
    "\n",
    "# 从标签为 0 和 2 的索引中随机选取 3221 个样本\n",
    "np.random.seed(42)  # 为了保证结果的可重复性\n",
    "selected_indices_0 = np.random.choice(indices_0, 3221, replace=False)\n",
    "selected_indices_2 = np.random.choice(indices_2, 3221, replace=False)\n",
    "\n",
    "# 合并所有选取的索引\n",
    "selected_indices = np.concatenate((selected_indices_0, indices_1, selected_indices_2))\n",
    "\n",
    "# 从 train_x 和 train_y 中提取对应的样本\n",
    "new_train_x = train_x[selected_indices]\n",
    "new_train_y = train_y[selected_indices]\n",
    "\n",
    "# 打印新数据集的形状以验证结果\n",
    "print(\"New train_x shape:\", new_train_x.shape)\n",
    "print(\"New train_y shape:\", new_train_y.shape)\n",
    "print(\"New train_y distribution:\", np.unique(new_train_y, return_counts=True))\n"
   ]
  },
  {
   "cell_type": "code",
   "execution_count": 20,
   "metadata": {},
   "outputs": [],
   "source": [
    "# 保存为 .npy 文件\n",
    "np.save('new_train_x.npy', new_train_x)\n",
    "np.save('new_train_y.npy', new_train_y)\n"
   ]
  },
  {
   "cell_type": "code",
   "execution_count": 23,
   "metadata": {},
   "outputs": [
    {
     "name": "stdout",
     "output_type": "stream",
     "text": [
      "Mean of feature 1: 93.89775259581221\n",
      "Mean of feature 2: 66.02769326296182\n",
      "Standard deviation of feature 1: 3.70010817978346\n",
      "Standard deviation of feature 2: 10.405189878114523\n"
     ]
    }
   ],
   "source": [
    "mean_feature1 = np.mean(new_train_x[:, 0, :])\n",
    "mean_feature2 = np.mean(new_train_x[:, 1, :])\n",
    "std_feature1 = np.std(new_train_x[:, 0, :])\n",
    "std_feature2 = np.std(new_train_x[:, 1, :])\n",
    "\n",
    "print(\"Mean of feature 1:\", mean_feature1)\n",
    "print(\"Mean of feature 2:\", mean_feature2)\n",
    "print(\"Standard deviation of feature 1:\", std_feature1)\n",
    "print(\"Standard deviation of feature 2:\", std_feature2)"
   ]
  }
 ],
 "metadata": {
  "kernelspec": {
   "display_name": "sleep",
   "language": "python",
   "name": "python3"
  },
  "language_info": {
   "codemirror_mode": {
    "name": "ipython",
    "version": 3
   },
   "file_extension": ".py",
   "mimetype": "text/x-python",
   "name": "python",
   "nbconvert_exporter": "python",
   "pygments_lexer": "ipython3",
   "version": "3.10.14"
  }
 },
 "nbformat": 4,
 "nbformat_minor": 2
}
